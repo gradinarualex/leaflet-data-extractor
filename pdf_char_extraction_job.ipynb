{
 "cells": [
  {
   "cell_type": "code",
   "execution_count": 3,
   "metadata": {},
   "outputs": [],
   "source": [
    "import pandas as pd\n",
    "from pdfminer.high_level import extract_pages\n",
    "from pdfminer.layout import LTChar"
   ]
  },
  {
   "cell_type": "code",
   "execution_count": 96,
   "metadata": {},
   "outputs": [],
   "source": [
    "def get_pages(pdf):\n",
    "    return [page for page in extract_pages(pdf)]"
   ]
  },
  {
   "cell_type": "code",
   "execution_count": 97,
   "metadata": {},
   "outputs": [],
   "source": [
    "def get_figures(page):\n",
    "    return [(page.pageid, figure) for figure in page]"
   ]
  },
  {
   "cell_type": "code",
   "execution_count": 98,
   "metadata": {},
   "outputs": [],
   "source": [
    "def get_chars(figure):\n",
    "    return [(figure[0], #page_number\n",
    "                 element.get_text(),\n",
    "                 element.x0,\n",
    "                 element.x1,\n",
    "                 element.width,\n",
    "                 element.y0,\n",
    "                 element.y1,\n",
    "                 element.height) for element in figure[1] if isinstance(element, LTChar)]"
   ]
  },
  {
   "cell_type": "code",
   "execution_count": 99,
   "metadata": {},
   "outputs": [],
   "source": [
    "def get_chars_df(chars_list):\n",
    "    return pd.DataFrame(chars_list, columns=['page_number', 'chars', 'x0', 'x1', 'width', 'y0', 'y1', 'height'])"
   ]
  },
  {
   "cell_type": "code",
   "execution_count": 101,
   "metadata": {},
   "outputs": [],
   "source": [
    "def get_pdf_chars_in_df(pdf):\n",
    "    pages = get_pages(pdf)\n",
    "    \n",
    "    all_figures = []\n",
    "    for page in pages:\n",
    "        all_figures += get_figures(page)\n",
    "    \n",
    "    all_chars = []\n",
    "    for figure in all_figures:\n",
    "        all_chars += get_chars(figure)\n",
    "        \n",
    "    return get_chars_df(all_chars)"
   ]
  },
  {
   "cell_type": "code",
   "execution_count": 102,
   "metadata": {},
   "outputs": [],
   "source": [
    "chars_df = get_pdf_chars_in_df('leaflets/pdfs/RO43-1000.pdf')"
   ]
  },
  {
   "cell_type": "code",
   "execution_count": 104,
   "metadata": {},
   "outputs": [],
   "source": [
    "chars_df.to_csv('leaflets/pdfs_chars_output/RO43-1000_chars.csv', encoding='utf-8 sig', index=False)"
   ]
  },
  {
   "cell_type": "code",
   "execution_count": 151,
   "metadata": {},
   "outputs": [],
   "source": [
    "'''\n",
    "from bokeh.models import ColumnDataSource, Label, LabelSet, Range1d\n",
    "from bokeh.plotting import figure, output_file, show\n",
    "\n",
    "output_file(\"label.html\", title=\"label.py example\")\n",
    "\n",
    "source = ColumnDataSource(data=dict(x0=list(data['x0'].values),\n",
    "                                    y0=list(data['y0'].values),\n",
    "                                    chars=list(data['Char'].values)))\n",
    "\n",
    "p = figure(title='PDF',\n",
    "           x_range=Range1d(240, 375),\n",
    "          plot_width=1500,\n",
    "          plot_height=10000)\n",
    "\n",
    "p.scatter(x='x0', y='y0', size=2, source=source, color='white')\n",
    "p.xaxis[0].axis_label = 'Column'\n",
    "p.yaxis[0].axis_label = 'Row'\n",
    "\n",
    "labels = LabelSet(x='x0', y='y0', text='chars', level='glyph',\n",
    "              x_offset=15, y_offset=15, source=source, render_mode='canvas')\n",
    "\n",
    "p.add_layout(labels)\n",
    "\n",
    "show(p)'''"
   ]
  }
 ],
 "metadata": {
  "kernelspec": {
   "display_name": "Python 3",
   "language": "python",
   "name": "python3"
  },
  "language_info": {
   "codemirror_mode": {
    "name": "ipython",
    "version": 3
   },
   "file_extension": ".py",
   "mimetype": "text/x-python",
   "name": "python",
   "nbconvert_exporter": "python",
   "pygments_lexer": "ipython3",
   "version": "3.7.3"
  }
 },
 "nbformat": 4,
 "nbformat_minor": 4
}
