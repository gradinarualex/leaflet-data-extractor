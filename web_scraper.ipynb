{
 "cells": [
  {
   "cell_type": "code",
   "execution_count": 1,
   "metadata": {},
   "outputs": [],
   "source": [
    "import requests\n",
    "from bs4 import BeautifulSoup\n",
    "import pandas as pd"
   ]
  },
  {
   "cell_type": "code",
   "execution_count": 2,
   "metadata": {},
   "outputs": [],
   "source": [
    "def get_product_detail(field, tag, filter_context=None):\n",
    "    '''returns for one product one detail from the selected tag within a filter context if applicable\n",
    "    i.e. get_product_detail(soup, 'div', {\"class\" : \"m-offer-tile__quantity\"'})'''\n",
    "    \n",
    "    return \" \".join([element.text.strip() for element in field.find_all(tag, filter_context)])"
   ]
  },
  {
   "cell_type": "code",
   "execution_count": 3,
   "metadata": {},
   "outputs": [],
   "source": [
    "def get_product_details(product_card, fields_list):\n",
    "    '''same as get_product_detail but on a list of fields returns all the details'''\n",
    "    return (get_product_detail(product_card, tag, filter_context)\n",
    "           for tag, filter_context, title\n",
    "           in fields_list)"
   ]
  },
  {
   "cell_type": "code",
   "execution_count": 4,
   "metadata": {},
   "outputs": [],
   "source": [
    "def get_all_products_details(products_list, fields_list):\n",
    "    '''loops over all products to get the details'''\n",
    "    return [get_product_details(product, fields_list) for product in products_list]"
   ]
  },
  {
   "cell_type": "code",
   "execution_count": 38,
   "metadata": {},
   "outputs": [],
   "source": [
    "def get_all_categories_schema(url='https://www.kaufland.ro/oferte/saptamana-curenta.html'):\n",
    "    # contact the site in order to find\n",
    "    r = requests.get(url)\n",
    "    \n",
    "    # creating the xml\n",
    "    soup = BeautifulSoup(r.text, 'lxml')\n",
    "    \n",
    "    # identifying all links\n",
    "    links = soup.find_all('a', {\"class\": \"m-accordion__link\"})\n",
    "    \n",
    "    # selecting only links that have category in name and adding base link\n",
    "    urls = ['https://www.kaufland.ro' + link.get('href') for link in links if link.get('href').__contains__('.category')]\n",
    "    \n",
    "    # selecting category ids\n",
    "    category_ids = [s[s.find('=')+len('='):s.find('_')] for s in urls]\n",
    "    \n",
    "    # grouping ids with url skipping the category_ids that contain 'htm' as this are not categories\n",
    "    return [(category_id, url) for category_id, url in zip (category_ids, urls) if not category_id.__contains__('htm')]"
   ]
  },
  {
   "cell_type": "code",
   "execution_count": 47,
   "metadata": {},
   "outputs": [],
   "source": [
    "def get_web_page_as_df(category_schema):\n",
    "\n",
    "    category_id, category_url = category_schema\n",
    "    # making the request\n",
    "    r = requests.get(category_url)\n",
    "\n",
    "    # creating the xml\n",
    "    soup = BeautifulSoup(r.text, 'lxml')\n",
    "\n",
    "    # identifying avalability\n",
    "    availability = [item.text for item in soup.find_all('h2') if item.text.__contains__('Valabilitate')][0]\n",
    "\n",
    "    # identifying products boxes/cards\n",
    "    products_cards = soup.find_all('a', {\"class\": \"m-offer-tile__link u-button--hover-children\"})\n",
    "\n",
    "    #tag type, filter context and the title that it will have\n",
    "    fields_to_parse = [('h5', None, 'title'),\n",
    "                       ('h4', None, 'subtitle'), \n",
    "                       ('div', {\"class\" : \"m-offer-tile__quantity\"}, 'quantity'), \n",
    "                       ('div', {\"class\" : \"m-offer-tile__basic-price\"}, 'price_per_metric'), \n",
    "                       ('div', {\"class\" : \"m-offer-tile__promo-message\"}, 'promo_message'), \n",
    "                       ('div', {\"class\" : \"a-pricetag__old-price\"}, 'old_price'), \n",
    "                       ('div', {\"class\" : \"a-pricetag__discount\"}, 'discount'), \n",
    "                       ('div', {\"class\" : \"a-pricetag__price\"}, 'new_price'), \n",
    "                       ('div', {\"class\" : \"a-eye-catcher__headline\"}, 'eye_catcher'),\n",
    "                       ('div', {\"data-category-id\" : category_id}, 'additional_offers')\n",
    "                       ]\n",
    "\n",
    "    all_products = get_all_products_details(products_cards, fields_to_parse)\n",
    "    columns = [schema[2] for schema in fields_to_parse]\n",
    "    online_promotions_df = pd.DataFrame(data=all_products, columns=columns)\n",
    "    \n",
    "    online_promotions_df['category_id'] = category_id\n",
    "    online_promotions_df['url'] = ['https://www.kaufland.ro' + link.get('href') for link in products_cards]\n",
    "\n",
    "    online_promotions_df['availability'] = availability\n",
    "\n",
    "    online_promotions_df.loc[online_promotions_df['additional_offers'] != \"\",  \"additional_offers\"] = 0\n",
    "    online_promotions_df.loc[online_promotions_df['additional_offers'] == \"\",  \"additional_offers\"] = 1\n",
    "    \n",
    "    return online_promotions_df"
   ]
  },
  {
   "cell_type": "code",
   "execution_count": 51,
   "metadata": {},
   "outputs": [],
   "source": [
    "category_schemas = get_all_categories_schema()"
   ]
  },
  {
   "cell_type": "code",
   "execution_count": 52,
   "metadata": {},
   "outputs": [],
   "source": [
    "all_online_promotions_df = pd.concat([get_web_page_as_df(category_schema) for category_schema in category_schemas])"
   ]
  },
  {
   "cell_type": "code",
   "execution_count": 53,
   "metadata": {},
   "outputs": [],
   "source": [
    "all_online_promotions_df.to_csv('leaflets/pdfs_online_output/RO-43-1000_online.csv', encoding='utf-8 sig', index=False)"
   ]
  }
 ],
 "metadata": {
  "kernelspec": {
   "display_name": "Python 3",
   "language": "python",
   "name": "python3"
  },
  "language_info": {
   "codemirror_mode": {
    "name": "ipython",
    "version": 3
   },
   "file_extension": ".py",
   "mimetype": "text/x-python",
   "name": "python",
   "nbconvert_exporter": "python",
   "pygments_lexer": "ipython3",
   "version": "3.7.3"
  }
 },
 "nbformat": 4,
 "nbformat_minor": 4
}
