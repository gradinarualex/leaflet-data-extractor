{
 "cells": [
  {
   "cell_type": "code",
   "execution_count": 18,
   "metadata": {},
   "outputs": [],
   "source": [
    "import time\n",
    "\n",
    "import pandas as pd\n",
    "import numpy as np\n",
    "import cv2\n",
    "\n",
    "from PIL import Image"
   ]
  },
  {
   "cell_type": "code",
   "execution_count": 8,
   "metadata": {},
   "outputs": [],
   "source": [
    "df = pd.read_csv('final_files_mapping.csv')"
   ]
  },
  {
   "cell_type": "code",
   "execution_count": 9,
   "metadata": {},
   "outputs": [
    {
     "name": "stdout",
     "output_type": "stream",
     "text": [
      "(1832600, 9)\n",
      "Index(['index', 'char', 'char_name', 'font_file', 'font_size', 'rotation',\n",
      "       'quality', 'background_color', 'file_name'],\n",
      "      dtype='object')\n"
     ]
    }
   ],
   "source": [
    "print(df.shape)\n",
    "print(df.columns)"
   ]
  },
  {
   "cell_type": "code",
   "execution_count": 10,
   "metadata": {},
   "outputs": [],
   "source": [
    "def duration_text(secs):\n",
    "\n",
    "    secs = round(secs, 2)\n",
    "    mins = int(secs // 60)\n",
    "    hours = int(mins // 60)\n",
    "    \n",
    "    remain_mins = int(mins - hours * 60)\n",
    "    remain_secs = round(secs - mins * 60, 2)\n",
    "    \n",
    "    remain_secs_text = \"0\" + str(remain_secs) if len(str(int(remain_secs))) == 1 else str(remain_secs)\n",
    "    remain_mins_text = \"0\" + str(remain_mins) if len(str(remain_mins)) == 1 else str(remain_mins)\n",
    "    \n",
    "    time_str = remain_secs_text + \"s\"\n",
    "    if hours > 0:\n",
    "        hours_text = \"0\" + str(hours) if len(str(hours)) == 1 else str(hours)\n",
    "        time_str = hours_text + \":\" + remain_mins_text + \":\" + time_str\n",
    "    elif mins > 0:\n",
    "        time_str = remain_mins_text + \":\" + time_str\n",
    "    else:\n",
    "        time_str = str(remain_secs) + \"s\"\n",
    "        \n",
    "    return time_str"
   ]
  },
  {
   "cell_type": "code",
   "execution_count": null,
   "metadata": {},
   "outputs": [],
   "source": []
  },
  {
   "cell_type": "code",
   "execution_count": 16,
   "metadata": {},
   "outputs": [
    {
     "name": "stdout",
     "output_type": "stream",
     "text": [
      "0 . Elapsed:  6.44s ; Cycle: 6.44s ; Avg Duration:  6.44s\n",
      "10000 . Elapsed:  9.68s ; Cycle: 3.23s ; Avg Duration:  4.84s\n",
      "20000 . Elapsed:  13.83s ; Cycle: 4.15s ; Avg Duration:  4.61s\n",
      "30000 . Elapsed:  21.45s ; Cycle: 7.63s ; Avg Duration:  5.36s\n",
      "40000 . Elapsed:  30.17s ; Cycle: 8.72s ; Avg Duration:  6.03s\n",
      "50000 . Elapsed:  40.67s ; Cycle: 10.5s ; Avg Duration:  6.78s\n",
      "60000 . Elapsed:  50.06s ; Cycle: 9.39s ; Avg Duration:  7.15s\n",
      "70000 . Elapsed:  58.51s ; Cycle: 8.45s ; Avg Duration:  7.31s\n",
      "80000 . Elapsed:  01:06.96s ; Cycle: 8.46s ; Avg Duration:  7.44s\n",
      "90000 . Elapsed:  01:15.76s ; Cycle: 8.8s ; Avg Duration:  7.58s\n",
      "100000 . Elapsed:  01:24.32s ; Cycle: 8.56s ; Avg Duration:  7.67s\n",
      "110000 . Elapsed:  01:32.82s ; Cycle: 8.5s ; Avg Duration:  7.74s\n",
      "120000 . Elapsed:  01:41.32s ; Cycle: 8.5s ; Avg Duration:  7.79s\n",
      "130000 . Elapsed:  01:49.98s ; Cycle: 8.65s ; Avg Duration:  7.86s\n",
      "140000 . Elapsed:  01:58.72s ; Cycle: 8.74s ; Avg Duration:  7.91s\n",
      "150000 . Elapsed:  02:07.86s ; Cycle: 9.14s ; Avg Duration:  7.99s\n",
      "160000 . Elapsed:  02:15.76s ; Cycle: 7.9s ; Avg Duration:  7.99s\n",
      "170000 . Elapsed:  02:23.48s ; Cycle: 7.72s ; Avg Duration:  7.97s\n",
      "180000 . Elapsed:  02:30.81s ; Cycle: 7.33s ; Avg Duration:  7.94s\n",
      "190000 . Elapsed:  02:37.77s ; Cycle: 6.96s ; Avg Duration:  7.89s\n",
      "200000 . Elapsed:  02:44.36s ; Cycle: 6.59s ; Avg Duration:  7.83s\n",
      "210000 . Elapsed:  02:51.28s ; Cycle: 6.92s ; Avg Duration:  7.79s\n",
      "220000 . Elapsed:  02:57.96s ; Cycle: 6.67s ; Avg Duration:  7.74s\n",
      "230000 . Elapsed:  03:05.14s ; Cycle: 7.19s ; Avg Duration:  7.71s\n",
      "240000 . Elapsed:  03:11.48s ; Cycle: 6.34s ; Avg Duration:  7.66s\n",
      "250000 . Elapsed:  03:17.89s ; Cycle: 6.41s ; Avg Duration:  7.61s\n",
      "260000 . Elapsed:  03:24.66s ; Cycle: 6.77s ; Avg Duration:  7.58s\n",
      "270000 . Elapsed:  03:34.36s ; Cycle: 9.69s ; Avg Duration:  7.66s\n",
      "280000 . Elapsed:  03:41.88s ; Cycle: 7.52s ; Avg Duration:  7.65s\n",
      "290000 . Elapsed:  03:48.69s ; Cycle: 6.81s ; Avg Duration:  7.62s\n",
      "300000 . Elapsed:  03:57.18s ; Cycle: 8.49s ; Avg Duration:  7.65s\n",
      "310000 . Elapsed:  04:07.19s ; Cycle: 10.01s ; Avg Duration:  7.72s\n",
      "320000 . Elapsed:  04:14.02s ; Cycle: 6.83s ; Avg Duration:  7.7s\n",
      "330000 . Elapsed:  04:20.61s ; Cycle: 6.59s ; Avg Duration:  7.66s\n",
      "340000 . Elapsed:  04:27.48s ; Cycle: 6.87s ; Avg Duration:  7.64s\n",
      "350000 . Elapsed:  04:34.19s ; Cycle: 6.71s ; Avg Duration:  7.62s\n",
      "360000 . Elapsed:  04:41.09s ; Cycle: 6.9s ; Avg Duration:  7.6s\n",
      "370000 . Elapsed:  04:48.95s ; Cycle: 7.86s ; Avg Duration:  7.6s\n",
      "380000 . Elapsed:  04:55.68s ; Cycle: 6.73s ; Avg Duration:  7.58s\n",
      "390000 . Elapsed:  05:20.35s ; Cycle: 24.68s ; Avg Duration:  8.01s\n",
      "400000 . Elapsed:  06:19.76s ; Cycle: 59.4s ; Avg Duration:  9.26s\n",
      "410000 . Elapsed:  07:26.2s ; Cycle: 01:06.45s ; Avg Duration:  10.62s\n"
     ]
    },
    {
     "ename": "KeyboardInterrupt",
     "evalue": "",
     "output_type": "error",
     "traceback": [
      "\u001b[1;31m---------------------------------------------------------------------------\u001b[0m",
      "\u001b[1;31mKeyboardInterrupt\u001b[0m                         Traceback (most recent call last)",
      "\u001b[1;32m<ipython-input-16-b74d755f9cbe>\u001b[0m in \u001b[0;36m<module>\u001b[1;34m\u001b[0m\n\u001b[0;32m     11\u001b[0m     \u001b[0my_class\u001b[0m \u001b[1;33m=\u001b[0m \u001b[0mint\u001b[0m\u001b[1;33m(\u001b[0m\u001b[0mrow\u001b[0m\u001b[1;33m[\u001b[0m\u001b[1;34m'index'\u001b[0m\u001b[1;33m]\u001b[0m\u001b[1;33m)\u001b[0m\u001b[1;33m\u001b[0m\u001b[1;33m\u001b[0m\u001b[0m\n\u001b[0;32m     12\u001b[0m \u001b[1;33m\u001b[0m\u001b[0m\n\u001b[1;32m---> 13\u001b[1;33m     \u001b[0mimage\u001b[0m \u001b[1;33m=\u001b[0m \u001b[0mImage\u001b[0m\u001b[1;33m.\u001b[0m\u001b[0mopen\u001b[0m\u001b[1;33m(\u001b[0m\u001b[0mfile_name\u001b[0m\u001b[1;33m)\u001b[0m\u001b[1;33m\u001b[0m\u001b[1;33m\u001b[0m\u001b[0m\n\u001b[0m\u001b[0;32m     14\u001b[0m     \u001b[0mrgb_im\u001b[0m \u001b[1;33m=\u001b[0m \u001b[0mimage\u001b[0m\u001b[1;33m.\u001b[0m\u001b[0mconvert\u001b[0m\u001b[1;33m(\u001b[0m\u001b[1;34m'RGB'\u001b[0m\u001b[1;33m)\u001b[0m\u001b[1;33m\u001b[0m\u001b[1;33m\u001b[0m\u001b[0m\n\u001b[0;32m     15\u001b[0m \u001b[1;33m\u001b[0m\u001b[0m\n",
      "\u001b[1;32m~\\anaconda3\\lib\\site-packages\\PIL\\Image.py\u001b[0m in \u001b[0;36mopen\u001b[1;34m(fp, mode)\u001b[0m\n\u001b[0;32m   2876\u001b[0m \u001b[1;33m\u001b[0m\u001b[0m\n\u001b[0;32m   2877\u001b[0m     \u001b[1;32mif\u001b[0m \u001b[0mfilename\u001b[0m\u001b[1;33m:\u001b[0m\u001b[1;33m\u001b[0m\u001b[1;33m\u001b[0m\u001b[0m\n\u001b[1;32m-> 2878\u001b[1;33m         \u001b[0mfp\u001b[0m \u001b[1;33m=\u001b[0m \u001b[0mbuiltins\u001b[0m\u001b[1;33m.\u001b[0m\u001b[0mopen\u001b[0m\u001b[1;33m(\u001b[0m\u001b[0mfilename\u001b[0m\u001b[1;33m,\u001b[0m \u001b[1;34m\"rb\"\u001b[0m\u001b[1;33m)\u001b[0m\u001b[1;33m\u001b[0m\u001b[1;33m\u001b[0m\u001b[0m\n\u001b[0m\u001b[0;32m   2879\u001b[0m         \u001b[0mexclusive_fp\u001b[0m \u001b[1;33m=\u001b[0m \u001b[1;32mTrue\u001b[0m\u001b[1;33m\u001b[0m\u001b[1;33m\u001b[0m\u001b[0m\n\u001b[0;32m   2880\u001b[0m \u001b[1;33m\u001b[0m\u001b[0m\n",
      "\u001b[1;31mKeyboardInterrupt\u001b[0m: "
     ]
    }
   ],
   "source": [
    "n_rows = 1_832_600\n",
    "\n",
    "X_dataset = []\n",
    "y_dataset = []\n",
    "durations = []\n",
    "\n",
    "for index, row in df.iterrows():\n",
    "    start_time = time.time()\n",
    "    \n",
    "    file_name = row['file_name']\n",
    "    y_class = int(row['index'])\n",
    "    \n",
    "    image = cv2.imread(file_name)\n",
    "    data = np.asarray(image)\n",
    "    \n",
    "    X_dataset.append(data)\n",
    "    y_dataset.append([y_class])\n",
    "    \n",
    "    end_time = time.time()\n",
    "    duration += end_time - start_time\n",
    "    \n",
    "    if index > 0 and index % 10_000 == 0:\n",
    "        durations.append(duration)\n",
    "        sum_duration = sum(durations)\n",
    "        avg_duration = sum_duration / len(durations)\n",
    "        print(index, \". Elapsed: \", duration_text(sum_duration), \"; Cycle:\", duration_text(duration), \"; Avg Duration: \", duration_text(avg_duration))\n",
    "        \n",
    "        duration = 0"
   ]
  },
  {
   "cell_type": "code",
   "execution_count": 19,
   "metadata": {},
   "outputs": [
    {
     "name": "stdout",
     "output_type": "stream",
     "text": [
      "10000 . Elapsed:  41.25s ; Cycle: 41.25s ; Avg Duration:  41.25s\n",
      "20000 . Elapsed:  47.53s ; Cycle: 6.29s ; Avg Duration:  23.77s\n",
      "30000 . Elapsed:  53.25s ; Cycle: 5.72s ; Avg Duration:  17.75s\n",
      "40000 . Elapsed:  58.91s ; Cycle: 5.66s ; Avg Duration:  14.73s\n",
      "50000 . Elapsed:  01:05.44s ; Cycle: 6.53s ; Avg Duration:  13.09s\n",
      "60000 . Elapsed:  01:11.91s ; Cycle: 6.47s ; Avg Duration:  11.98s\n",
      "70000 . Elapsed:  01:18.82s ; Cycle: 6.91s ; Avg Duration:  11.26s\n",
      "80000 . Elapsed:  01:25.24s ; Cycle: 6.42s ; Avg Duration:  10.65s\n",
      "90000 . Elapsed:  01:31.77s ; Cycle: 6.53s ; Avg Duration:  10.2s\n",
      "100000 . Elapsed:  01:38.15s ; Cycle: 6.38s ; Avg Duration:  9.81s\n",
      "110000 . Elapsed:  01:44.36s ; Cycle: 6.21s ; Avg Duration:  9.49s\n",
      "120000 . Elapsed:  01:50.48s ; Cycle: 6.12s ; Avg Duration:  9.21s\n",
      "130000 . Elapsed:  01:56.84s ; Cycle: 6.35s ; Avg Duration:  8.99s\n",
      "140000 . Elapsed:  02:02.96s ; Cycle: 6.12s ; Avg Duration:  8.78s\n",
      "150000 . Elapsed:  02:08.7s ; Cycle: 5.74s ; Avg Duration:  8.58s\n",
      "160000 . Elapsed:  02:14.18s ; Cycle: 5.47s ; Avg Duration:  8.39s\n",
      "170000 . Elapsed:  02:19.7s ; Cycle: 5.52s ; Avg Duration:  8.22s\n",
      "180000 . Elapsed:  02:25.18s ; Cycle: 5.48s ; Avg Duration:  8.07s\n",
      "190000 . Elapsed:  02:30.52s ; Cycle: 5.34s ; Avg Duration:  7.92s\n",
      "200000 . Elapsed:  02:35.97s ; Cycle: 5.46s ; Avg Duration:  7.8s\n",
      "210000 . Elapsed:  02:41.35s ; Cycle: 5.37s ; Avg Duration:  7.68s\n",
      "220000 . Elapsed:  02:46.93s ; Cycle: 5.58s ; Avg Duration:  7.59s\n",
      "230000 . Elapsed:  02:52.84s ; Cycle: 5.91s ; Avg Duration:  7.51s\n",
      "240000 . Elapsed:  02:58.19s ; Cycle: 5.35s ; Avg Duration:  7.42s\n",
      "250000 . Elapsed:  03:03.62s ; Cycle: 5.43s ; Avg Duration:  7.34s\n",
      "260000 . Elapsed:  03:09.01s ; Cycle: 5.39s ; Avg Duration:  7.27s\n",
      "270000 . Elapsed:  03:14.29s ; Cycle: 5.28s ; Avg Duration:  7.2s\n",
      "280000 . Elapsed:  03:19.67s ; Cycle: 5.38s ; Avg Duration:  7.13s\n",
      "290000 . Elapsed:  03:25.0s ; Cycle: 5.34s ; Avg Duration:  7.07s\n",
      "300000 . Elapsed:  03:30.66s ; Cycle: 5.65s ; Avg Duration:  7.02s\n",
      "310000 . Elapsed:  03:36.86s ; Cycle: 6.21s ; Avg Duration:  7.0s\n",
      "320000 . Elapsed:  03:42.71s ; Cycle: 5.84s ; Avg Duration:  6.96s\n",
      "330000 . Elapsed:  03:48.1s ; Cycle: 5.39s ; Avg Duration:  6.91s\n",
      "340000 . Elapsed:  03:53.54s ; Cycle: 5.44s ; Avg Duration:  6.87s\n",
      "350000 . Elapsed:  03:59.19s ; Cycle: 5.65s ; Avg Duration:  6.83s\n",
      "360000 . Elapsed:  04:04.59s ; Cycle: 5.4s ; Avg Duration:  6.79s\n",
      "370000 . Elapsed:  04:10.08s ; Cycle: 5.49s ; Avg Duration:  6.76s\n",
      "380000 . Elapsed:  04:15.43s ; Cycle: 5.35s ; Avg Duration:  6.72s\n",
      "390000 . Elapsed:  04:21.0s ; Cycle: 5.57s ; Avg Duration:  6.69s\n",
      "400000 . Elapsed:  04:26.59s ; Cycle: 5.59s ; Avg Duration:  6.66s\n",
      "410000 . Elapsed:  04:32.32s ; Cycle: 5.73s ; Avg Duration:  6.64s\n",
      "420000 . Elapsed:  05:01.94s ; Cycle: 29.62s ; Avg Duration:  7.19s\n",
      "430000 . Elapsed:  06:00.24s ; Cycle: 58.3s ; Avg Duration:  8.38s\n"
     ]
    },
    {
     "ename": "KeyboardInterrupt",
     "evalue": "",
     "output_type": "error",
     "traceback": [
      "\u001b[1;31m---------------------------------------------------------------------------\u001b[0m",
      "\u001b[1;31mKeyboardInterrupt\u001b[0m                         Traceback (most recent call last)",
      "\u001b[1;32m<ipython-input-19-67c69979e0f1>\u001b[0m in \u001b[0;36m<module>\u001b[1;34m\u001b[0m\n\u001b[0;32m     11\u001b[0m     \u001b[0my_class\u001b[0m \u001b[1;33m=\u001b[0m \u001b[0mint\u001b[0m\u001b[1;33m(\u001b[0m\u001b[0mrow\u001b[0m\u001b[1;33m[\u001b[0m\u001b[1;34m'index'\u001b[0m\u001b[1;33m]\u001b[0m\u001b[1;33m)\u001b[0m\u001b[1;33m\u001b[0m\u001b[1;33m\u001b[0m\u001b[0m\n\u001b[0;32m     12\u001b[0m \u001b[1;33m\u001b[0m\u001b[0m\n\u001b[1;32m---> 13\u001b[1;33m     \u001b[0mimage\u001b[0m \u001b[1;33m=\u001b[0m \u001b[0mcv2\u001b[0m\u001b[1;33m.\u001b[0m\u001b[0mimread\u001b[0m\u001b[1;33m(\u001b[0m\u001b[0mfile_name\u001b[0m\u001b[1;33m)\u001b[0m\u001b[1;33m\u001b[0m\u001b[1;33m\u001b[0m\u001b[0m\n\u001b[0m\u001b[0;32m     14\u001b[0m     \u001b[0mdata\u001b[0m \u001b[1;33m=\u001b[0m \u001b[0mnp\u001b[0m\u001b[1;33m.\u001b[0m\u001b[0masarray\u001b[0m\u001b[1;33m(\u001b[0m\u001b[0mimage\u001b[0m\u001b[1;33m)\u001b[0m\u001b[1;33m\u001b[0m\u001b[1;33m\u001b[0m\u001b[0m\n\u001b[0;32m     15\u001b[0m \u001b[1;33m\u001b[0m\u001b[0m\n",
      "\u001b[1;31mKeyboardInterrupt\u001b[0m: "
     ]
    }
   ],
   "source": [
    "n_rows = 1_832_600\n",
    "\n",
    "X_dataset = []\n",
    "y_dataset = []\n",
    "durations = []\n",
    "\n",
    "for index, row in df.iterrows():\n",
    "    start_time = time.time()\n",
    "    \n",
    "    file_name = row['file_name']\n",
    "    y_class = int(row['index'])\n",
    "    \n",
    "    image = cv2.imread(file_name)\n",
    "    data = np.asarray(image)\n",
    "    \n",
    "    X_dataset.append(data)\n",
    "    y_dataset.append([y_class])\n",
    "    \n",
    "    end_time = time.time()\n",
    "    duration += end_time - start_time\n",
    "    \n",
    "    if index > 0 and index % 10_000 == 0:\n",
    "        durations.append(duration)\n",
    "        sum_duration = sum(durations)\n",
    "        avg_duration = sum_duration / len(durations)\n",
    "        print(index, \". Elapsed: \", duration_text(sum_duration), \"; Cycle:\", duration_text(duration), \"; Avg Duration: \", duration_text(avg_duration))\n",
    "        \n",
    "        duration = 0"
   ]
  },
  {
   "cell_type": "code",
   "execution_count": 23,
   "metadata": {},
   "outputs": [
    {
     "data": {
      "text/plain": [
       "5.0"
      ]
     },
     "execution_count": 23,
     "metadata": {},
     "output_type": "execute_result"
    }
   ],
   "source": [
    "np.ceil(n_rows / 400000)"
   ]
  },
  {
   "cell_type": "code",
   "execution_count": 27,
   "metadata": {},
   "outputs": [
    {
     "ename": "KeyboardInterrupt",
     "evalue": "",
     "output_type": "error",
     "traceback": [
      "\u001b[1;31m---------------------------------------------------------------------------\u001b[0m",
      "\u001b[1;31mKeyboardInterrupt\u001b[0m                         Traceback (most recent call last)",
      "\u001b[1;32m<ipython-input-27-ec7975d218ec>\u001b[0m in \u001b[0;36m<module>\u001b[1;34m\u001b[0m\n\u001b[0;32m     15\u001b[0m     \u001b[1;32mreturn\u001b[0m \u001b[1;33m(\u001b[0m\u001b[0mdata\u001b[0m\u001b[1;33m,\u001b[0m \u001b[1;33m[\u001b[0m\u001b[0my_class\u001b[0m\u001b[1;33m]\u001b[0m\u001b[1;33m)\u001b[0m\u001b[1;33m\u001b[0m\u001b[1;33m\u001b[0m\u001b[0m\n\u001b[0;32m     16\u001b[0m \u001b[1;33m\u001b[0m\u001b[0m\n\u001b[1;32m---> 17\u001b[1;33m \u001b[0ms\u001b[0m \u001b[1;33m=\u001b[0m \u001b[0mdf\u001b[0m\u001b[1;33m.\u001b[0m\u001b[0mapply\u001b[0m\u001b[1;33m(\u001b[0m\u001b[0mget_np_array\u001b[0m\u001b[1;33m,\u001b[0m \u001b[0maxis\u001b[0m\u001b[1;33m=\u001b[0m\u001b[1;36m1\u001b[0m\u001b[1;33m)\u001b[0m\u001b[1;33m\u001b[0m\u001b[1;33m\u001b[0m\u001b[0m\n\u001b[0m",
      "\u001b[1;32m~\\anaconda3\\lib\\site-packages\\pandas\\core\\frame.py\u001b[0m in \u001b[0;36mapply\u001b[1;34m(self, func, axis, raw, result_type, args, **kwds)\u001b[0m\n\u001b[0;32m   6876\u001b[0m             \u001b[0mkwds\u001b[0m\u001b[1;33m=\u001b[0m\u001b[0mkwds\u001b[0m\u001b[1;33m,\u001b[0m\u001b[1;33m\u001b[0m\u001b[1;33m\u001b[0m\u001b[0m\n\u001b[0;32m   6877\u001b[0m         )\n\u001b[1;32m-> 6878\u001b[1;33m         \u001b[1;32mreturn\u001b[0m \u001b[0mop\u001b[0m\u001b[1;33m.\u001b[0m\u001b[0mget_result\u001b[0m\u001b[1;33m(\u001b[0m\u001b[1;33m)\u001b[0m\u001b[1;33m\u001b[0m\u001b[1;33m\u001b[0m\u001b[0m\n\u001b[0m\u001b[0;32m   6879\u001b[0m \u001b[1;33m\u001b[0m\u001b[0m\n\u001b[0;32m   6880\u001b[0m     \u001b[1;32mdef\u001b[0m \u001b[0mapplymap\u001b[0m\u001b[1;33m(\u001b[0m\u001b[0mself\u001b[0m\u001b[1;33m,\u001b[0m \u001b[0mfunc\u001b[0m\u001b[1;33m)\u001b[0m \u001b[1;33m->\u001b[0m \u001b[1;34m\"DataFrame\"\u001b[0m\u001b[1;33m:\u001b[0m\u001b[1;33m\u001b[0m\u001b[1;33m\u001b[0m\u001b[0m\n",
      "\u001b[1;32m~\\anaconda3\\lib\\site-packages\\pandas\\core\\apply.py\u001b[0m in \u001b[0;36mget_result\u001b[1;34m(self)\u001b[0m\n\u001b[0;32m    184\u001b[0m             \u001b[1;32mreturn\u001b[0m \u001b[0mself\u001b[0m\u001b[1;33m.\u001b[0m\u001b[0mapply_raw\u001b[0m\u001b[1;33m(\u001b[0m\u001b[1;33m)\u001b[0m\u001b[1;33m\u001b[0m\u001b[1;33m\u001b[0m\u001b[0m\n\u001b[0;32m    185\u001b[0m \u001b[1;33m\u001b[0m\u001b[0m\n\u001b[1;32m--> 186\u001b[1;33m         \u001b[1;32mreturn\u001b[0m \u001b[0mself\u001b[0m\u001b[1;33m.\u001b[0m\u001b[0mapply_standard\u001b[0m\u001b[1;33m(\u001b[0m\u001b[1;33m)\u001b[0m\u001b[1;33m\u001b[0m\u001b[1;33m\u001b[0m\u001b[0m\n\u001b[0m\u001b[0;32m    187\u001b[0m \u001b[1;33m\u001b[0m\u001b[0m\n\u001b[0;32m    188\u001b[0m     \u001b[1;32mdef\u001b[0m \u001b[0mapply_empty_result\u001b[0m\u001b[1;33m(\u001b[0m\u001b[0mself\u001b[0m\u001b[1;33m)\u001b[0m\u001b[1;33m:\u001b[0m\u001b[1;33m\u001b[0m\u001b[1;33m\u001b[0m\u001b[0m\n",
      "\u001b[1;32m~\\anaconda3\\lib\\site-packages\\pandas\\core\\apply.py\u001b[0m in \u001b[0;36mapply_standard\u001b[1;34m(self)\u001b[0m\n\u001b[0;32m    293\u001b[0m \u001b[1;33m\u001b[0m\u001b[0m\n\u001b[0;32m    294\u001b[0m             \u001b[1;32mtry\u001b[0m\u001b[1;33m:\u001b[0m\u001b[1;33m\u001b[0m\u001b[1;33m\u001b[0m\u001b[0m\n\u001b[1;32m--> 295\u001b[1;33m                 result = libreduction.compute_reduction(\n\u001b[0m\u001b[0;32m    296\u001b[0m                     \u001b[0mvalues\u001b[0m\u001b[1;33m,\u001b[0m \u001b[0mself\u001b[0m\u001b[1;33m.\u001b[0m\u001b[0mf\u001b[0m\u001b[1;33m,\u001b[0m \u001b[0maxis\u001b[0m\u001b[1;33m=\u001b[0m\u001b[0mself\u001b[0m\u001b[1;33m.\u001b[0m\u001b[0maxis\u001b[0m\u001b[1;33m,\u001b[0m \u001b[0mdummy\u001b[0m\u001b[1;33m=\u001b[0m\u001b[0mdummy\u001b[0m\u001b[1;33m,\u001b[0m \u001b[0mlabels\u001b[0m\u001b[1;33m=\u001b[0m\u001b[0mlabels\u001b[0m\u001b[1;33m\u001b[0m\u001b[1;33m\u001b[0m\u001b[0m\n\u001b[0;32m    297\u001b[0m                 )\n",
      "\u001b[1;32mpandas\\_libs\\reduction.pyx\u001b[0m in \u001b[0;36mpandas._libs.reduction.compute_reduction\u001b[1;34m()\u001b[0m\n",
      "\u001b[1;32mpandas\\_libs\\reduction.pyx\u001b[0m in \u001b[0;36mpandas._libs.reduction.Reducer.get_result\u001b[1;34m()\u001b[0m\n",
      "\u001b[1;32m<ipython-input-27-ec7975d218ec>\u001b[0m in \u001b[0;36mget_np_array\u001b[1;34m(row)\u001b[0m\n\u001b[0;32m     10\u001b[0m     \u001b[0my_class\u001b[0m \u001b[1;33m=\u001b[0m \u001b[0mint\u001b[0m\u001b[1;33m(\u001b[0m\u001b[0mrow\u001b[0m\u001b[1;33m[\u001b[0m\u001b[1;34m'index'\u001b[0m\u001b[1;33m]\u001b[0m\u001b[1;33m)\u001b[0m\u001b[1;33m\u001b[0m\u001b[1;33m\u001b[0m\u001b[0m\n\u001b[0;32m     11\u001b[0m \u001b[1;33m\u001b[0m\u001b[0m\n\u001b[1;32m---> 12\u001b[1;33m     \u001b[0mimage\u001b[0m \u001b[1;33m=\u001b[0m \u001b[0mcv2\u001b[0m\u001b[1;33m.\u001b[0m\u001b[0mimread\u001b[0m\u001b[1;33m(\u001b[0m\u001b[0mfile_name\u001b[0m\u001b[1;33m)\u001b[0m\u001b[1;33m\u001b[0m\u001b[1;33m\u001b[0m\u001b[0m\n\u001b[0m\u001b[0;32m     13\u001b[0m     \u001b[0mdata\u001b[0m \u001b[1;33m=\u001b[0m \u001b[0mnp\u001b[0m\u001b[1;33m.\u001b[0m\u001b[0masarray\u001b[0m\u001b[1;33m(\u001b[0m\u001b[0mimage\u001b[0m\u001b[1;33m)\u001b[0m\u001b[1;33m\u001b[0m\u001b[1;33m\u001b[0m\u001b[0m\n\u001b[0;32m     14\u001b[0m \u001b[1;33m\u001b[0m\u001b[0m\n",
      "\u001b[1;31mKeyboardInterrupt\u001b[0m: "
     ]
    }
   ],
   "source": [
    "n_rows = 1_832_600\n",
    "group_size = 366_520\n",
    "n_groups = int(np.ceil(n_rows / group_size))\n",
    "\n",
    "group_start = 1\n",
    "\n",
    "\n",
    "def get_np_array(row):\n",
    "    file_name = row['file_name']\n",
    "    y_class = int(row['index'])\n",
    "\n",
    "    image = cv2.imread(file_name)\n",
    "    data = np.asarray(image)\n",
    "\n",
    "    return (data, [y_class])\n",
    "\n",
    "s = df.apply(get_np_array, axis=1)"
   ]
  },
  {
   "cell_type": "code",
   "execution_count": null,
   "metadata": {},
   "outputs": [],
   "source": [
    "for i in range(group_start, n_groups):\n",
    "    print(\"Group:\", i + 1, \"/\", n_groups)\n",
    "    index_start = i * group_size\n",
    "    index_end = (i + 1) * group_size\n",
    "    \n",
    "    df_section = df.loc[index_start:index_end,:]\n",
    "    \n",
    "    X_dataset = []\n",
    "    y_dataset = []\n",
    "    durations = []\n",
    "    \n",
    "    duration = 0\n",
    "\n",
    "    for index, row in df_section.iterrows():\n",
    "        start_time = time.time()\n",
    "    \n",
    "        file_name = row['file_name']\n",
    "        y_class = int(row['index'])\n",
    "\n",
    "        image = cv2.imread(file_name)\n",
    "        data = np.asarray(image)\n",
    "\n",
    "        X_dataset.append(data)\n",
    "        y_dataset.append([y_class])\n",
    "\n",
    "        end_time = time.time()\n",
    "        duration += end_time - start_time\n",
    "\n",
    "        if index > 0 and index % 10_000 == 0:\n",
    "            durations.append(duration)\n",
    "            sum_duration = sum(durations)\n",
    "            print(index, \". Elapsed: \", duration_text(sum_duration), \"; Cycle:\", duration_text(duration))\n",
    "            duration = 0\n",
    "    \n",
    "    file_name = \"char_dataset_\" + str(i) + \".npy\"\n",
    "    full_dataset = (X_dataset, y_dataset)\n",
    "    # save to npy file\n",
    "    np.save(file_name, full_dataset)"
   ]
  },
  {
   "cell_type": "code",
   "execution_count": null,
   "metadata": {},
   "outputs": [],
   "source": [
    "full_dataset = (X_dataset, y_dataset)"
   ]
  },
  {
   "cell_type": "code",
   "execution_count": null,
   "metadata": {},
   "outputs": [],
   "source": [
    "# save to npy file\n",
    "np.save('full_char_dataset.npy', full_dataset)"
   ]
  },
  {
   "cell_type": "code",
   "execution_count": null,
   "metadata": {},
   "outputs": [],
   "source": [
    "# load array\n",
    "data = np.load('data.npy')"
   ]
  }
 ],
 "metadata": {
  "kernelspec": {
   "display_name": "Python 3",
   "language": "python",
   "name": "python3"
  },
  "language_info": {
   "codemirror_mode": {
    "name": "ipython",
    "version": 3
   },
   "file_extension": ".py",
   "mimetype": "text/x-python",
   "name": "python",
   "nbconvert_exporter": "python",
   "pygments_lexer": "ipython3",
   "version": "3.8.3"
  }
 },
 "nbformat": 4,
 "nbformat_minor": 4
}
