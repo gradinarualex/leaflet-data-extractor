{
 "cells": [
  {
   "cell_type": "code",
   "execution_count": 4,
   "metadata": {},
   "outputs": [],
   "source": [
    "import pandas as pd\n",
    "import numpy as np\n",
    "from PIL import Image"
   ]
  },
  {
   "cell_type": "code",
   "execution_count": 5,
   "metadata": {},
   "outputs": [],
   "source": [
    "df = pd.read_csv('final_files_mapping.csv')"
   ]
  },
  {
   "cell_type": "code",
   "execution_count": 6,
   "metadata": {},
   "outputs": [
    {
     "name": "stdout",
     "output_type": "stream",
     "text": [
      "(1832600, 9)\n",
      "Index(['index', 'char', 'char_name', 'font_file', 'font_size', 'rotation',\n",
      "       'quality', 'background_color', 'file_name'],\n",
      "      dtype='object')\n"
     ]
    }
   ],
   "source": [
    "print(df.shape)\n",
    "print(df.columns)"
   ]
  },
  {
   "cell_type": "code",
   "execution_count": null,
   "metadata": {},
   "outputs": [],
   "source": [
    "X_dataset = []\n",
    "y_dataset = []\n",
    "\n",
    "for index, row in df.iterrows():\n",
    "    file_name = row['file_name']\n",
    "    y_class = int(row['index'])\n",
    "    \n",
    "    image = Image.open(file_name)\n",
    "    rgb_im = image.convert('RGB')\n",
    "    \n",
    "    data = np.asarray(rgb_im)\n",
    "    \n",
    "    X_dataset.append(data)\n",
    "    y_dataset.append([y_class])"
   ]
  },
  {
   "cell_type": "code",
   "execution_count": 7,
   "metadata": {},
   "outputs": [],
   "source": [
    "import cv2"
   ]
  },
  {
   "cell_type": "code",
   "execution_count": 9,
   "metadata": {},
   "outputs": [
    {
     "data": {
      "text/plain": [
       "(32, 32, 3)"
      ]
     },
     "execution_count": 9,
     "metadata": {},
     "output_type": "execute_result"
    }
   ],
   "source": [
    "test_row = df.iloc[0,:]\n",
    "file_name = test_row['file_name']\n",
    "image = cv2.imread(file_name)\n",
    "# rgb_im = image.convert('RGB')\n",
    "    \n",
    "# data = np.asarray(rgb_im)\n",
    "data = np.asarray(image)\n",
    "data.shape"
   ]
  },
  {
   "cell_type": "code",
   "execution_count": 8,
   "metadata": {},
   "outputs": [
    {
     "data": {
      "text/plain": [
       "index                                                               0\n",
       "char                                                                0\n",
       "char_name                                                           0\n",
       "font_file                                    AbrilFatface-Regular.otf\n",
       "font_size                                                          18\n",
       "rotation                                                          -45\n",
       "quality                                                         clean\n",
       "background_color                                                  215\n",
       "file_name           ./chars/1_AbrilFatface-Regular.otf_fs_18_bc_21...\n",
       "Name: 0, dtype: object"
      ]
     },
     "execution_count": 8,
     "metadata": {},
     "output_type": "execute_result"
    }
   ],
   "source": [
    "df.iloc[0,:]"
   ]
  },
  {
   "cell_type": "code",
   "execution_count": null,
   "metadata": {},
   "outputs": [],
   "source": [
    "full_dataset = (X_dataset, y_dataset)"
   ]
  },
  {
   "cell_type": "code",
   "execution_count": null,
   "metadata": {},
   "outputs": [],
   "source": [
    "# save to npy file\n",
    "np.save('full_char_dataset.npy', data)"
   ]
  },
  {
   "cell_type": "code",
   "execution_count": null,
   "metadata": {},
   "outputs": [],
   "source": [
    "# load array\n",
    "data = np.load('data.npy')"
   ]
  }
 ],
 "metadata": {
  "kernelspec": {
   "display_name": "Python 3",
   "language": "python",
   "name": "python3"
  },
  "language_info": {
   "codemirror_mode": {
    "name": "ipython",
    "version": 3
   },
   "file_extension": ".py",
   "mimetype": "text/x-python",
   "name": "python",
   "nbconvert_exporter": "python",
   "pygments_lexer": "ipython3",
   "version": "3.8.3"
  }
 },
 "nbformat": 4,
 "nbformat_minor": 4
}
