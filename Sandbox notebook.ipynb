{
 "cells": [
  {
   "cell_type": "code",
   "execution_count": 1,
   "metadata": {},
   "outputs": [
    {
     "name": "stdout",
     "output_type": "stream",
     "text": [
      "Downloading data from https://storage.googleapis.com/tensorflow/keras-applications/vgg16/vgg16_weights_tf_dim_ordering_tf_kernels_notop.h5\n",
      "58892288/58889256 [==============================] - 13s 0us/step\n"
     ]
    }
   ],
   "source": [
    "from tensorflow.keras.applications.vgg16 import VGG16\n",
    "from tensorflow.keras.preprocessing import image\n",
    "from tensorflow.keras.applications.vgg16 import preprocess_input\n",
    "from tensorflow.keras.applications.vgg16 import decode_predictions\n",
    "import numpy as np"
   ]
  },
  {
   "cell_type": "code",
   "execution_count": 25,
   "metadata": {},
   "outputs": [
    {
     "name": "stdout",
     "output_type": "stream",
     "text": [
      "Downloading data from https://storage.googleapis.com/tensorflow/keras-applications/vgg16/vgg16_weights_tf_dim_ordering_tf_kernels.h5\n",
      "553467904/553467096 [==============================] - 133s 0us/step\n"
     ]
    }
   ],
   "source": [
    "model = VGG16(weights='imagenet', include_top=True)\n",
    "\n",
    "img_path = 'lidl.jpg'\n",
    "img = image.load_img(img_path, target_size=(224, 224))\n",
    "x = image.img_to_array(img)\n",
    "x = np.expand_dims(x, axis=0)\n",
    "x = preprocess_input(x)\n",
    "\n",
    "features = model.predict(x)"
   ]
  },
  {
   "cell_type": "code",
   "execution_count": 27,
   "metadata": {},
   "outputs": [],
   "source": [
    "label = decode_predictions(features)"
   ]
  },
  {
   "cell_type": "code",
   "execution_count": 28,
   "metadata": {},
   "outputs": [
    {
     "data": {
      "text/plain": [
       "[[('n06359193', 'web_site', 0.784763),\n",
       "  ('n07565083', 'menu', 0.12151476),\n",
       "  ('n03871628', 'packet', 0.0438581),\n",
       "  ('n02786058', 'Band_Aid', 0.019386983),\n",
       "  ('n04127249', 'safety_pin', 0.011261758)]]"
      ]
     },
     "execution_count": 28,
     "metadata": {},
     "output_type": "execute_result"
    }
   ],
   "source": [
    "label"
   ]
  },
  {
   "cell_type": "code",
   "execution_count": 4,
   "metadata": {},
   "outputs": [],
   "source": [
    "label = label[0][0]\n",
    "# print the classification\n",
    "print('%s (%.2f%%)' % (label[1], label[2]*100))"
   ]
  },
  {
   "cell_type": "code",
   "execution_count": 8,
   "metadata": {},
   "outputs": [
    {
     "data": {
      "text/plain": [
       "numpy.ndarray"
      ]
     },
     "execution_count": 8,
     "metadata": {},
     "output_type": "execute_result"
    }
   ],
   "source": [
    "type(features)"
   ]
  },
  {
   "cell_type": "code",
   "execution_count": 22,
   "metadata": {},
   "outputs": [],
   "source": [
    "flat_features = features.flatten()\n",
    "std_features = np.array([flat_features])"
   ]
  },
  {
   "cell_type": "code",
   "execution_count": 23,
   "metadata": {},
   "outputs": [
    {
     "ename": "ValueError",
     "evalue": "`decode_predictions` expects a batch of predictions (i.e. a 2D array of shape (samples, 1000)). Found array with shape: (1, 25088)",
     "output_type": "error",
     "traceback": [
      "\u001b[1;31m---------------------------------------------------------------------------\u001b[0m",
      "\u001b[1;31mValueError\u001b[0m                                Traceback (most recent call last)",
      "\u001b[1;32m<ipython-input-23-bcc6966b0358>\u001b[0m in \u001b[0;36m<module>\u001b[1;34m\u001b[0m\n\u001b[1;32m----> 1\u001b[1;33m \u001b[0mdecode_predictions\u001b[0m\u001b[1;33m(\u001b[0m\u001b[0mstd_features\u001b[0m\u001b[1;33m)\u001b[0m\u001b[1;33m\u001b[0m\u001b[1;33m\u001b[0m\u001b[0m\n\u001b[0m",
      "\u001b[1;32m~\\anaconda3\\lib\\site-packages\\tensorflow\\python\\keras\\applications\\vgg16.py\u001b[0m in \u001b[0;36mdecode_predictions\u001b[1;34m(preds, top)\u001b[0m\n\u001b[0;32m    234\u001b[0m \u001b[1;33m@\u001b[0m\u001b[0mkeras_export\u001b[0m\u001b[1;33m(\u001b[0m\u001b[1;34m'keras.applications.vgg16.decode_predictions'\u001b[0m\u001b[1;33m)\u001b[0m\u001b[1;33m\u001b[0m\u001b[1;33m\u001b[0m\u001b[0m\n\u001b[0;32m    235\u001b[0m \u001b[1;32mdef\u001b[0m \u001b[0mdecode_predictions\u001b[0m\u001b[1;33m(\u001b[0m\u001b[0mpreds\u001b[0m\u001b[1;33m,\u001b[0m \u001b[0mtop\u001b[0m\u001b[1;33m=\u001b[0m\u001b[1;36m5\u001b[0m\u001b[1;33m)\u001b[0m\u001b[1;33m:\u001b[0m\u001b[1;33m\u001b[0m\u001b[1;33m\u001b[0m\u001b[0m\n\u001b[1;32m--> 236\u001b[1;33m   \u001b[1;32mreturn\u001b[0m \u001b[0mimagenet_utils\u001b[0m\u001b[1;33m.\u001b[0m\u001b[0mdecode_predictions\u001b[0m\u001b[1;33m(\u001b[0m\u001b[0mpreds\u001b[0m\u001b[1;33m,\u001b[0m \u001b[0mtop\u001b[0m\u001b[1;33m=\u001b[0m\u001b[0mtop\u001b[0m\u001b[1;33m)\u001b[0m\u001b[1;33m\u001b[0m\u001b[1;33m\u001b[0m\u001b[0m\n\u001b[0m\u001b[0;32m    237\u001b[0m \u001b[1;33m\u001b[0m\u001b[0m\n\u001b[0;32m    238\u001b[0m \u001b[1;33m\u001b[0m\u001b[0m\n",
      "\u001b[1;32m~\\anaconda3\\lib\\site-packages\\tensorflow\\python\\keras\\applications\\imagenet_utils.py\u001b[0m in \u001b[0;36mdecode_predictions\u001b[1;34m(preds, top)\u001b[0m\n\u001b[0;32m    146\u001b[0m \u001b[1;33m\u001b[0m\u001b[0m\n\u001b[0;32m    147\u001b[0m   \u001b[1;32mif\u001b[0m \u001b[0mlen\u001b[0m\u001b[1;33m(\u001b[0m\u001b[0mpreds\u001b[0m\u001b[1;33m.\u001b[0m\u001b[0mshape\u001b[0m\u001b[1;33m)\u001b[0m \u001b[1;33m!=\u001b[0m \u001b[1;36m2\u001b[0m \u001b[1;32mor\u001b[0m \u001b[0mpreds\u001b[0m\u001b[1;33m.\u001b[0m\u001b[0mshape\u001b[0m\u001b[1;33m[\u001b[0m\u001b[1;36m1\u001b[0m\u001b[1;33m]\u001b[0m \u001b[1;33m!=\u001b[0m \u001b[1;36m1000\u001b[0m\u001b[1;33m:\u001b[0m\u001b[1;33m\u001b[0m\u001b[1;33m\u001b[0m\u001b[0m\n\u001b[1;32m--> 148\u001b[1;33m     raise ValueError('`decode_predictions` expects '\n\u001b[0m\u001b[0;32m    149\u001b[0m                      \u001b[1;34m'a batch of predictions '\u001b[0m\u001b[1;33m\u001b[0m\u001b[1;33m\u001b[0m\u001b[0m\n\u001b[0;32m    150\u001b[0m                      \u001b[1;34m'(i.e. a 2D array of shape (samples, 1000)). '\u001b[0m\u001b[1;33m\u001b[0m\u001b[1;33m\u001b[0m\u001b[0m\n",
      "\u001b[1;31mValueError\u001b[0m: `decode_predictions` expects a batch of predictions (i.e. a 2D array of shape (samples, 1000)). Found array with shape: (1, 25088)"
     ]
    }
   ],
   "source": [
    "decode_predictions(std_features)"
   ]
  },
  {
   "cell_type": "code",
   "execution_count": 12,
   "metadata": {},
   "outputs": [
    {
     "data": {
      "text/plain": [
       "(25088,)"
      ]
     },
     "execution_count": 12,
     "metadata": {},
     "output_type": "execute_result"
    }
   ],
   "source": [
    "flat_features.shape"
   ]
  },
  {
   "cell_type": "code",
   "execution_count": 14,
   "metadata": {},
   "outputs": [
    {
     "data": {
      "text/plain": [
       "(25088,)"
      ]
     },
     "execution_count": 14,
     "metadata": {},
     "output_type": "execute_result"
    }
   ],
   "source": [
    "flat_features.T.shape"
   ]
  },
  {
   "cell_type": "code",
   "execution_count": 16,
   "metadata": {},
   "outputs": [],
   "source": [
    "arr = np.array([['a'],['a']])"
   ]
  },
  {
   "cell_type": "code",
   "execution_count": 17,
   "metadata": {},
   "outputs": [
    {
     "data": {
      "text/plain": [
       "(2, 1)"
      ]
     },
     "execution_count": 17,
     "metadata": {},
     "output_type": "execute_result"
    }
   ],
   "source": [
    "arr.shape"
   ]
  },
  {
   "cell_type": "code",
   "execution_count": 18,
   "metadata": {},
   "outputs": [
    {
     "data": {
      "text/plain": [
       "(1, 2)"
      ]
     },
     "execution_count": 18,
     "metadata": {},
     "output_type": "execute_result"
    }
   ],
   "source": [
    "arr.T.shape"
   ]
  },
  {
   "cell_type": "code",
   "execution_count": 19,
   "metadata": {},
   "outputs": [
    {
     "data": {
      "text/plain": [
       "array([['a', 'a']], dtype='<U1')"
      ]
     },
     "execution_count": 19,
     "metadata": {},
     "output_type": "execute_result"
    }
   ],
   "source": [
    "arr.T"
   ]
  },
  {
   "cell_type": "code",
   "execution_count": 20,
   "metadata": {},
   "outputs": [
    {
     "data": {
      "text/plain": [
       "(1, 25088)"
      ]
     },
     "execution_count": 20,
     "metadata": {},
     "output_type": "execute_result"
    }
   ],
   "source": []
  },
  {
   "cell_type": "code",
   "execution_count": 29,
   "metadata": {},
   "outputs": [
    {
     "name": "stdout",
     "output_type": "stream",
     "text": [
      "CU LIDL PLUS,\n",
      "\n",
      "\n",
      "\n",
      "\n",
      "\n",
      "\n",
      "\n",
      "\n",
      "\n",
      "\n",
      "CU LIDL PLUS,\n",
      "\n",
      "\n",
      "\n",
      "\n",
      "\n",
      "\n",
      "\n",
      "\n",
      "\n",
      "\n",
      "\n",
      "\n",
      "\n",
      "\n",
      "\n",
      "DE LUNI, 12 OCTOMBRIE\n",
      "DE LUNI, 12 OCTOMBRIE\n",
      "DE LUNI, 12 OCTOMBRIE\n",
      "5 L49,991 L = 10,00 lei\n",
      "Detergent\n",
      "lichid Ł \n",
      "\n",
      "16,991 L = 4,25 lei\n",
      "\n",
      "Bere\n",
      "\n",
      "Ł \n",
      "\n",
      "\n",
      "-28%\n",
      "6,99\n",
      "4,99\n",
      "\n",
      "-30%\n",
      "1,99\n",
      "1,39\n",
      "\n",
      "\n",
      "\n",
      "23,99\n",
      "Cafea\n",
      "\n",
      "\n"
     ]
    }
   ],
   "source": [
    "import PyPDF2\n",
    "\n",
    "fhandle = open(r'./lidl.pdf', 'rb')\n",
    "pdfReader = PyPDF2.PdfFileReader(fhandle)\n",
    "pagehandle = pdfReader.getPage(0)\n",
    "print(pagehandle.extractText())"
   ]
  },
  {
   "cell_type": "code",
   "execution_count": 40,
   "metadata": {},
   "outputs": [
    {
     "name": "stderr",
     "output_type": "stream",
     "text": [
      "Downloading recognition model, please wait. This may take several minutes depending upon your network connection.\n"
     ]
    },
    {
     "name": "stdout",
     "output_type": "stream",
     "text": [
      "Progress: |██████████████████████████████████████████████████| 100.0% Complete\r"
     ]
    }
   ],
   "source": [
    "import easyocr\n",
    "reader = easyocr.Reader(['ro']) # need to run only once to load model into memory\n",
    "result = reader.readtext('lidl.jpg')"
   ]
  },
  {
   "cell_type": "code",
   "execution_count": 36,
   "metadata": {},
   "outputs": [
    {
     "name": "stdout",
     "output_type": "stream",
     "text": [
      "DL\n",
      "www.lidlro\n",
      "JACODS\n",
      "JACOBS\n",
      "\n",
      "Cw\n",
      "SIOCUMIQ!\n",
      "DnddtMRWMG\n",
      "25000\n",
      "2399\n",
      "Cafea\n",
      "macinat\n",
      "DELUNI,12OCTOMBRIE\n",
      "Detergent\n",
      "WXL\n",
      "lichid\n",
      "lddes049[\n",
      "SIOCUMIAI\n",
      "COm0)\n",
      "49?9\n",
      "Co0[\n",
      "DELUNI, I2OCTOMBRIE\n"
     ]
    }
   ],
   "source": [
    "for item in result:\n",
    "    print(item[-2])"
   ]
  },
  {
   "cell_type": "code",
   "execution_count": 42,
   "metadata": {},
   "outputs": [
    {
     "name": "stdout",
     "output_type": "stream",
     "text": [
      "DL\n",
      "www.lidl.ro\n",
      "JACOBS\n",
      "JACOBS\n",
      "\n",
      "Govex\n",
      "SIOCUMITAI!\n",
      "444^04011;\n",
      "zluug\n",
      "2399\n",
      "Cafea\n",
      "måcinatã\n",
      "DELUNI, 12 OCTOMBRIE\n",
      "Detergent\n",
      "IAXI\n",
      "lichid\n",
      "_11145151171211\n",
      "STOCUMITAI|\n",
      "Omo)\n",
      "4999\n",
      "nolguu\n",
      "DELUNI, 12OCTOMBRIE\n"
     ]
    }
   ],
   "source": [
    "for item in result:\n",
    "    print(item[-2])"
   ]
  },
  {
   "cell_type": "code",
   "execution_count": 41,
   "metadata": {},
   "outputs": [
    {
     "ename": "TypeError",
     "evalue": "'module' object is not callable",
     "output_type": "error",
     "traceback": [
      "\u001b[1;31m---------------------------------------------------------------------------\u001b[0m",
      "\u001b[1;31mTypeError\u001b[0m                                 Traceback (most recent call last)",
      "\u001b[1;32m<ipython-input-41-033a7ecf9bca>\u001b[0m in \u001b[0;36m<module>\u001b[1;34m\u001b[0m\n\u001b[1;32m----> 1\u001b[1;33m \u001b[0mprint\u001b[0m\u001b[1;33m(\u001b[0m\u001b[0measyocr\u001b[0m\u001b[1;33m.\u001b[0m\u001b[0mmodel\u001b[0m\u001b[1;33m(\u001b[0m\u001b[1;33m)\u001b[0m\u001b[1;33m)\u001b[0m\u001b[1;33m\u001b[0m\u001b[1;33m\u001b[0m\u001b[0m\n\u001b[0m",
      "\u001b[1;31mTypeError\u001b[0m: 'module' object is not callable"
     ]
    }
   ],
   "source": [
    "print(easyocr.model)"
   ]
  },
  {
   "cell_type": "code",
   "execution_count": 16,
   "metadata": {},
   "outputs": [],
   "source": [
    "import pytesseract\n",
    "from PIL import Ixmage\n",
    "\n",
    "def ocr_core(filename):\n",
    "    \"\"\"\n",
    "    This function will handle the core OCR processing of images.\n",
    "    \"\"\"\n",
    "    text = pytesseract.image_to_string(Image.open(filename), lang='ron+eng')  # We'll use Pillow's Image class to open the image and pytesseract to detect the string in the image\n",
    "    return text"
   ]
  },
  {
   "cell_type": "code",
   "execution_count": 17,
   "metadata": {},
   "outputs": [],
   "source": [
    "pytesseract.pytesseract.tesseract_cmd = r'C:\\Program Files\\Tesseract-OCR\\tesseract.exe'"
   ]
  },
  {
   "cell_type": "code",
   "execution_count": 18,
   "metadata": {},
   "outputs": [],
   "source": [
    "page = ocr_core('./lidl.jpg')"
   ]
  },
  {
   "cell_type": "code",
   "execution_count": 19,
   "metadata": {},
   "outputs": [
    {
     "data": {
      "text/plain": [
       "'LODL\\nwww.lidl.ro\\n\\nJACOBS\\n\\nicons ROMINE\\n\\nSe 2329\\n\\nDetergent\\nlichid\\n\\n \\n\\x0c'"
      ]
     },
     "execution_count": 19,
     "metadata": {},
     "output_type": "execute_result"
    }
   ],
   "source": [
    "page"
   ]
  },
  {
   "cell_type": "code",
   "execution_count": 1,
   "metadata": {},
   "outputs": [
    {
     "data": {
      "text/plain": [
       "1"
      ]
     },
     "execution_count": 1,
     "metadata": {},
     "output_type": "execute_result"
    }
   ],
   "source": [
    "len(str(int(0)))"
   ]
  },
  {
   "cell_type": "code",
   "execution_count": 43,
   "metadata": {},
   "outputs": [],
   "source": [
    "def duration_text(secs):\n",
    "\n",
    "    secs = round(secs, 2)\n",
    "    mins = int(secs // 60)\n",
    "    hours = int(mins // 60)\n",
    "    \n",
    "    remain_mins = int(mins - hours * 60)\n",
    "    remain_secs = round(secs - mins * 60, 2)\n",
    "    \n",
    "    remain_secs_text = \"0\" + str(remain_secs) if len(str(int(remain_secs))) == 1 else str(remain_secs)\n",
    "    remain_mins_text = \"0\" + str(remain_mins) if len(str(remain_mins)) == 1 else str(remain_mins)\n",
    "    \n",
    "    time_str = remain_secs_text + \"s\"\n",
    "    if hours > 0:\n",
    "        hours_text = str(hours)\n",
    "        time_str = hours_text + \":\" + remain_mins_text + \":\" + time_str\n",
    "    elif mins > 0:\n",
    "        time_str = str(remain_mins) + \":\" + time_str\n",
    "    else:\n",
    "        time_str = str(remain_secs) + \"s\"\n",
    "        \n",
    "    return time_str"
   ]
  },
  {
   "cell_type": "code",
   "execution_count": 45,
   "metadata": {},
   "outputs": [
    {
     "name": "stdout",
     "output_type": "stream",
     "text": [
      "7.8s\n",
      "1:05.5s\n",
      "56:40.1s\n",
      "1:00:25.3s\n",
      "10:12:45.6s\n",
      "102:07:30.3s\n"
     ]
    }
   ],
   "source": [
    "print(duration_text(7.8))\n",
    "print(duration_text(65.5))\n",
    "print(duration_text(3400.1))\n",
    "print(duration_text(3625.3))\n",
    "print(duration_text(36765.6))\n",
    "print(duration_text(367650.3))"
   ]
  },
  {
   "cell_type": "code",
   "execution_count": 35,
   "metadata": {},
   "outputs": [],
   "source": [
    "def duration_text_h(secs):\n",
    "\n",
    "    secs = round(secs, 1)\n",
    "    mins = int(secs // 60)\n",
    "    hours = int(mins // 60)\n",
    "    \n",
    "    remain_mins = int(mins - hours * 60)\n",
    "    remain_secs = round(secs - mins * 60, 1)\n",
    "    \n",
    "    remain_secs_text = \"0\" + str(remain_secs) if len(str(int(remain_secs))) == 1 else str(remain_secs)\n",
    "    remain_mins_text = \"0\" + str(remain_mins) if len(str(remain_mins)) == 1 else str(remain_mins)\n",
    "    \n",
    "    time_str = remain_secs_text + \"s\"\n",
    "    if hours > 0:\n",
    "        hours_text = \"0\" + str(hours) if len(str(hours)) == 1 else str(hours)\n",
    "        time_str = hours_text + \"h \" + remain_mins_text + \"m \" + time_str\n",
    "    elif mins > 0:\n",
    "        time_str = remain_mins_text + \"m \" + time_str\n",
    "        \n",
    "    return time_str"
   ]
  },
  {
   "cell_type": "code",
   "execution_count": 36,
   "metadata": {},
   "outputs": [
    {
     "name": "stdout",
     "output_type": "stream",
     "text": [
      "07.8s\n",
      "01m 05.5s\n",
      "56m 40.1s\n",
      "10h 12m 45.6s\n",
      "102h 07m 30.3s\n"
     ]
    }
   ],
   "source": [
    "print(duration_text_h(7.8))\n",
    "print(duration_text_h(65.5))\n",
    "print(duration_text_h(3400.1))\n",
    "print(duration_text_h(36765.6))\n",
    "print(duration_text_h(367650.3))"
   ]
  },
  {
   "cell_type": "code",
   "execution_count": 1,
   "metadata": {},
   "outputs": [],
   "source": [
    "import tabula"
   ]
  },
  {
   "cell_type": "code",
   "execution_count": 2,
   "metadata": {},
   "outputs": [
    {
     "name": "stderr",
     "output_type": "stream",
     "text": [
      "Got stderr: Oct 18, 2020 3:16:52 PM org.apache.pdfbox.pdmodel.font.FileSystemFontProvider loadDiskCache\n",
      "WARNING: New fonts found, font cache will be re-built\n",
      "Oct 18, 2020 3:16:52 PM org.apache.pdfbox.pdmodel.font.FileSystemFontProvider <init>\n",
      "WARNING: Building on-disk font cache, this may take a while\n",
      "Oct 18, 2020 3:16:53 PM org.apache.pdfbox.pdmodel.font.FileSystemFontProvider <init>\n",
      "WARNING: Finished building on-disk font cache, found 189 fonts\n",
      "\n"
     ]
    }
   ],
   "source": [
    "# Read pdf into list of DataFrame\n",
    "df = tabula.read_pdf(\"RO42-1000.pdf\", pages=1)"
   ]
  },
  {
   "cell_type": "code",
   "execution_count": 4,
   "metadata": {},
   "outputs": [
    {
     "data": {
      "text/plain": [
       "[   Unnamed: 0\n",
       " 0         NaN\n",
       " 1         NaN\n",
       " 2         NaN\n",
       " 3         NaN\n",
       " 4         NaN,\n",
       "    Unnamed: 0\n",
       " 0         NaN\n",
       " 1         NaN\n",
       " 2         NaN\n",
       " 3         NaN\n",
       " 4         NaN,\n",
       "    Unnamed: 0\n",
       " 0         NaN\n",
       " 1         NaN\n",
       " 2         NaN,\n",
       "    Unnamed: 0\n",
       " 0         NaN\n",
       " 1         NaN\n",
       " 2         NaN,\n",
       "    Unnamed: 0\n",
       " 0         NaN\n",
       " 1         NaN\n",
       " 2         NaN\n",
       " 3         NaN\n",
       " 4         NaN,\n",
       "    Unnamed: 0\n",
       " 0         NaN\n",
       " 1         NaN\n",
       " 2         NaN,\n",
       " Empty DataFrame\n",
       " Columns: [Unnamed: 0]\n",
       " Index: [],\n",
       "    Unnamed: 0  Unnamed: 1  Unnamed: 2\n",
       " 0         NaN         NaN         NaN,\n",
       "         - 31%\n",
       " 0         NaN\n",
       " 1  4,39\\r2,99,\n",
       "    3,19\\r1,99\n",
       " 0         NaN,\n",
       "    3,19\\r1,99\n",
       " 0         NaN,\n",
       " Empty DataFrame\n",
       " Columns: [23,99\n",
       " ,9]\n",
       " Index: [],\n",
       "    Unnamed: 0  Unnamed: 1\n",
       " 0         NaN         NaN\n",
       " 1         NaN         NaN,\n",
       " Empty DataFrame\n",
       " Columns: [Unnamed: 0, Unnamed: 1, Unnamed: 2]\n",
       " Index: [],\n",
       " Empty DataFrame\n",
       " Columns: [Unnamed: 0, Unnamed: 1, Unnamed: 2]\n",
       " Index: [],\n",
       "          - 29%\n",
       " 0          NaN\n",
       " 1  11,29\\r7,99,\n",
       " Empty DataFrame\n",
       " Columns: [- 55%]\n",
       " Index: [],\n",
       " Empty DataFrame\n",
       " Columns: [16,99\n",
       " 7,49]\n",
       " Index: [],\n",
       " Empty DataFrame\n",
       " Columns: [3,69\n",
       " 2,69]\n",
       " Index: [],\n",
       "          - 32%\n",
       " 0          NaN\n",
       " 1  13,29\\r8,99,\n",
       " Empty DataFrame\n",
       " Columns: [74,99\n",
       " 9,9]\n",
       " Index: []]"
      ]
     },
     "execution_count": 4,
     "metadata": {},
     "output_type": "execute_result"
    }
   ],
   "source": [
    "df"
   ]
  },
  {
   "cell_type": "code",
   "execution_count": 9,
   "metadata": {},
   "outputs": [
    {
     "name": "stdout",
     "output_type": "stream",
     "text": [
      "   Unnamed: 0\n",
      "0         NaN\n",
      "1         NaN\n",
      "2         NaN\n",
      "3         NaN\n",
      "4         NaN\n",
      "   Unnamed: 0\n",
      "0         NaN\n",
      "1         NaN\n",
      "2         NaN\n",
      "3         NaN\n",
      "4         NaN\n",
      "   Unnamed: 0\n",
      "0         NaN\n",
      "1         NaN\n",
      "2         NaN\n",
      "   Unnamed: 0\n",
      "0         NaN\n",
      "1         NaN\n",
      "2         NaN\n",
      "   Unnamed: 0\n",
      "0         NaN\n",
      "1         NaN\n",
      "2         NaN\n",
      "3         NaN\n",
      "4         NaN\n",
      "   Unnamed: 0\n",
      "0         NaN\n",
      "1         NaN\n",
      "2         NaN\n",
      "Empty DataFrame\n",
      "Columns: [Unnamed: 0]\n",
      "Index: []\n",
      "   Unnamed: 0  Unnamed: 1  Unnamed: 2\n",
      "0         NaN         NaN         NaN\n",
      "        - 31%\n",
      "0         NaN\n",
      "1  4,39\\r2,99\n",
      "   3,19\\r1,99\n",
      "0         NaN\n",
      "   3,19\\r1,99\n",
      "0         NaN\n",
      "Empty DataFrame\n",
      ",9]umns: [23,99\n",
      "Index: []\n",
      "   Unnamed: 0  Unnamed: 1\n",
      "0         NaN         NaN\n",
      "1         NaN         NaN\n",
      "Empty DataFrame\n",
      "Columns: [Unnamed: 0, Unnamed: 1, Unnamed: 2]\n",
      "Index: []\n",
      "Empty DataFrame\n",
      "Columns: [Unnamed: 0, Unnamed: 1, Unnamed: 2]\n",
      "Index: []\n",
      "         - 29%\n",
      "0          NaN\n",
      "1  11,29\\r7,99\n",
      "Empty DataFrame\n",
      "Columns: [- 55%]\n",
      "Index: []\n",
      "Empty DataFrame\n",
      "7,49]ns: [16,99\n",
      "Index: []\n",
      "Empty DataFrame\n",
      "2,69]ns: [3,69\n",
      "Index: []\n",
      "         - 32%\n",
      "0          NaN\n",
      "1  13,29\\r8,99\n",
      "Empty DataFrame\n",
      "9,9]mns: [74,99\n",
      "Index: []\n"
     ]
    }
   ],
   "source": [
    "for item in df:\n",
    "    print(item)"
   ]
  },
  {
   "cell_type": "code",
   "execution_count": 8,
   "metadata": {},
   "outputs": [
    {
     "data": {
      "text/html": [
       "<div>\n",
       "<style scoped>\n",
       "    .dataframe tbody tr th:only-of-type {\n",
       "        vertical-align: middle;\n",
       "    }\n",
       "\n",
       "    .dataframe tbody tr th {\n",
       "        vertical-align: top;\n",
       "    }\n",
       "\n",
       "    .dataframe thead th {\n",
       "        text-align: right;\n",
       "    }\n",
       "</style>\n",
       "<table border=\"1\" class=\"dataframe\">\n",
       "  <thead>\n",
       "    <tr style=\"text-align: right;\">\n",
       "      <th></th>\n",
       "      <th>3,19\\r1,99</th>\n",
       "    </tr>\n",
       "  </thead>\n",
       "  <tbody>\n",
       "    <tr>\n",
       "      <th>0</th>\n",
       "      <td>NaN</td>\n",
       "    </tr>\n",
       "  </tbody>\n",
       "</table>\n",
       "</div>"
      ],
      "text/plain": [
       "   3,19\\r1,99\n",
       "0         NaN"
      ]
     },
     "execution_count": 8,
     "metadata": {},
     "output_type": "execute_result"
    }
   ],
   "source": [
    "df["
   ]
  },
  {
   "cell_type": "code",
   "execution_count": 12,
   "metadata": {},
   "outputs": [],
   "source": [
    "# convert PDF into CSV file\n",
    "tabula.convert_into(\"RO42-1000.pdf\", \"pag27.csv\", output_format=\"csv\", pages=27)"
   ]
  },
  {
   "cell_type": "code",
   "execution_count": 15,
   "metadata": {},
   "outputs": [],
   "source": [
    "pag27 = tabula.read_pdf(\"RO42-1000.pdf\", pages=[27])"
   ]
  },
  {
   "cell_type": "code",
   "execution_count": 16,
   "metadata": {},
   "outputs": [
    {
     "data": {
      "text/plain": [
       "[]"
      ]
     },
     "execution_count": 16,
     "metadata": {},
     "output_type": "execute_result"
    }
   ],
   "source": [
    "pag27"
   ]
  },
  {
   "cell_type": "code",
   "execution_count": 1,
   "metadata": {},
   "outputs": [
    {
     "name": "stdout",
     "output_type": "stream",
     "text": [
      "20191125\n"
     ]
    }
   ],
   "source": [
    "import pdfminer\n",
    "print(pdfminer.__version__) "
   ]
  },
  {
   "cell_type": "code",
   "execution_count": 2,
   "metadata": {},
   "outputs": [
    {
     "ename": "AttributeError",
     "evalue": "module 'pdfminer' has no attribute 'extract_text'",
     "output_type": "error",
     "traceback": [
      "\u001b[1;31m---------------------------------------------------------------------------\u001b[0m",
      "\u001b[1;31mAttributeError\u001b[0m                            Traceback (most recent call last)",
      "\u001b[1;32m<ipython-input-2-18044ae78b80>\u001b[0m in \u001b[0;36m<module>\u001b[1;34m\u001b[0m\n\u001b[1;32m----> 1\u001b[1;33m \u001b[0mtext\u001b[0m \u001b[1;33m=\u001b[0m \u001b[0mpdfminer\u001b[0m\u001b[1;33m.\u001b[0m\u001b[0mextract_text\u001b[0m\u001b[1;33m(\u001b[0m\u001b[1;34m'./RO42-1000.pdf'\u001b[0m\u001b[1;33m)\u001b[0m\u001b[1;33m\u001b[0m\u001b[1;33m\u001b[0m\u001b[0m\n\u001b[0m",
      "\u001b[1;31mAttributeError\u001b[0m: module 'pdfminer' has no attribute 'extract_text'"
     ]
    }
   ],
   "source": [
    "text = pdfminer.extract_text('./RO42-1000.pdf')"
   ]
  },
  {
   "cell_type": "code",
   "execution_count": 5,
   "metadata": {},
   "outputs": [
    {
     "name": "stdout",
     "output_type": "stream",
     "text": [
      "20191125\n"
     ]
    }
   ],
   "source": [
    "import pdfminer\n",
    "print(pdfminer.__version__) "
   ]
  },
  {
   "cell_type": "code",
   "execution_count": 7,
   "metadata": {},
   "outputs": [
    {
     "ename": "SyntaxError",
     "evalue": "invalid syntax (<ipython-input-7-7906a622a88f>, line 1)",
     "output_type": "error",
     "traceback": [
      "\u001b[1;36m  File \u001b[1;32m\"<ipython-input-7-7906a622a88f>\"\u001b[1;36m, line \u001b[1;32m1\u001b[0m\n\u001b[1;33m    from pdfminer\u001b[0m\n\u001b[1;37m                 ^\u001b[0m\n\u001b[1;31mSyntaxError\u001b[0m\u001b[1;31m:\u001b[0m invalid syntax\n"
     ]
    }
   ],
   "source": [
    "from pdfminer"
   ]
  },
  {
   "cell_type": "code",
   "execution_count": 10,
   "metadata": {},
   "outputs": [
    {
     "name": "stdout",
     "output_type": "stream",
     "text": [
      "Help on package pdfminer:\n",
      "\n",
      "NAME\n",
      "    pdfminer\n",
      "\n",
      "PACKAGE CONTENTS\n",
      "    arcfour\n",
      "    ascii85\n",
      "    ccitt\n",
      "    cmapdb\n",
      "    converter\n",
      "    encodingdb\n",
      "    fontmetrics\n",
      "    glyphlist\n",
      "    image\n",
      "    latin_enc\n",
      "    layout\n",
      "    lzw\n",
      "    pdfcolor\n",
      "    pdfdevice\n",
      "    pdfdocument\n",
      "    pdffont\n",
      "    pdfinterp\n",
      "    pdfpage\n",
      "    pdfparser\n",
      "    pdftypes\n",
      "    psparser\n",
      "    rijndael\n",
      "    runlength\n",
      "    utils\n",
      "\n",
      "VERSION\n",
      "    20191125\n",
      "\n",
      "FILE\n",
      "    c:\\users\\gradi\\anaconda3\\lib\\site-packages\\pdfminer\\__init__.py\n",
      "\n",
      "\n"
     ]
    }
   ],
   "source": [
    "help(pdfminer)"
   ]
  },
  {
   "cell_type": "code",
   "execution_count": 12,
   "metadata": {},
   "outputs": [
    {
     "ename": "AttributeError",
     "evalue": "module 'pdfminer' has no attribute 'pdfparser'",
     "output_type": "error",
     "traceback": [
      "\u001b[1;31m---------------------------------------------------------------------------\u001b[0m",
      "\u001b[1;31mAttributeError\u001b[0m                            Traceback (most recent call last)",
      "\u001b[1;32m<ipython-input-12-cc1ccb133970>\u001b[0m in \u001b[0;36m<module>\u001b[1;34m\u001b[0m\n\u001b[1;32m----> 1\u001b[1;33m \u001b[0mpdfminer\u001b[0m\u001b[1;33m.\u001b[0m\u001b[0mpdfparser\u001b[0m\u001b[1;33m\u001b[0m\u001b[1;33m\u001b[0m\u001b[0m\n\u001b[0m",
      "\u001b[1;31mAttributeError\u001b[0m: module 'pdfminer' has no attribute 'pdfparser'"
     ]
    }
   ],
   "source": [
    "pdfminer.pdfparser"
   ]
  },
  {
   "cell_type": "code",
   "execution_count": 14,
   "metadata": {},
   "outputs": [
    {
     "name": "stdout",
     "output_type": "stream",
     "text": [
      "\n",
      "    Information about RO42-1000.pdf: \n",
      "\n",
      "    Author: None\n",
      "    Creator: None\n",
      "    Producer: None\n",
      "    Subject: None\n",
      "    Title: None\n",
      "    Number of pages: 40\n",
      "    XMP Metadata: <PyPDF2.xmp.XmpInformation object at 0x00000223B9BEA490>\n",
      "    \n"
     ]
    }
   ],
   "source": [
    "from PyPDF2 import PdfFileReader\n",
    "\n",
    "def extract_information(pdf_path):\n",
    "    with open(pdf_path, 'rb') as f:\n",
    "        pdf = PdfFileReader(f)\n",
    "        information = pdf.getDocumentInfo()\n",
    "        number_of_pages = pdf.getNumPages()\n",
    "        xmp_metadata = pdf.getXmpMetadata()\n",
    "\n",
    "    txt = f\"\"\"\n",
    "    Information about {pdf_path}: \n",
    "\n",
    "    Author: {information.author}\n",
    "    Creator: {information.creator}\n",
    "    Producer: {information.producer}\n",
    "    Subject: {information.subject}\n",
    "    Title: {information.title}\n",
    "    Number of pages: {number_of_pages}\n",
    "    XMP Metadata: {xmp_metadata}\n",
    "    \"\"\"\n",
    "\n",
    "    print(txt)\n",
    "    return information\n",
    "\n",
    "if __name__ == '__main__':\n",
    "    path = 'RO42-1000.pdf'\n",
    "    extract_information(path)"
   ]
  },
  {
   "cell_type": "code",
   "execution_count": null,
   "metadata": {},
   "outputs": [],
   "source": []
  }
 ],
 "metadata": {
  "kernelspec": {
   "display_name": "Python 3",
   "language": "python",
   "name": "python3"
  },
  "language_info": {
   "codemirror_mode": {
    "name": "ipython",
    "version": 3
   },
   "file_extension": ".py",
   "mimetype": "text/x-python",
   "name": "python",
   "nbconvert_exporter": "python",
   "pygments_lexer": "ipython3",
   "version": "3.8.3"
  }
 },
 "nbformat": 4,
 "nbformat_minor": 4
}
